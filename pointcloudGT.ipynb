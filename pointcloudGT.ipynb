{
 "cells": [
  {
   "attachments": {},
   "cell_type": "markdown",
   "metadata": {},
   "source": [
    "Dependencies"
   ]
  },
  {
   "cell_type": "code",
   "execution_count": 2,
   "metadata": {},
   "outputs": [],
   "source": [
    "import numpy as np\n",
    "import pandas as pd\n",
    "import open3d as o3d\n",
    "import transforms3d as tf3d\n",
    "import csv\n",
    "from pyntcloud import PyntCloud as pt\n",
    "import os\n"
   ]
  },
  {
   "attachments": {},
   "cell_type": "markdown",
   "metadata": {},
   "source": [
    "__Data Processing Steps__"
   ]
  },
  {
   "cell_type": "code",
   "execution_count": 3,
   "metadata": {},
   "outputs": [],
   "source": [
    "def data_array_from_column(df, column_name):\n",
    "    vectors = df[column_name].apply(eval)\n",
    "    vectors_df = pd.DataFrame(vectors.tolist())\n",
    "   \n",
    "\n",
    "    return np.asarray(vectors_df)"
   ]
  },
  {
   "cell_type": "markdown",
   "metadata": {},
   "source": [
    "File path"
   ]
  },
  {
   "cell_type": "code",
   "execution_count": 4,
   "metadata": {},
   "outputs": [],
   "source": [
    "relative_path = '/home/shubham/Master_Thesis/label_data/'\n",
    "seed_paths = os.listdir('/home/shubham/Master_Thesis/label_data')\n",
    "pcd_files = os.listdir(relative_path+seed_paths[0]+\"/pointclouds\")\n",
    "csv_file = relative_path+seed_paths[0]+\"/output.csv\""
   ]
  },
  {
   "attachments": {},
   "cell_type": "markdown",
   "metadata": {},
   "source": [
    "Data Extractions and cleanup"
   ]
  },
  {
   "cell_type": "code",
   "execution_count": 5,
   "metadata": {},
   "outputs": [],
   "source": [
    "data = pd.read_csv(csv_file)\n",
    "data['SimTime'] = np.round(data['SimTime'], 2)\n",
    "data.drop('WallTime', inplace=True, axis=1)\n",
    "data.drop('PropertyType', inplace=True, axis=1)\n",
    "data.drop('InstanceType', inplace=True, axis=1)\n",
    "data.drop('ModelInstanceIdPath', inplace=True, axis=1)\n"
   ]
  },
  {
   "cell_type": "code",
   "execution_count": 79,
   "metadata": {},
   "outputs": [
    {
     "data": {
      "text/html": [
       "<div>\n",
       "<style scoped>\n",
       "    .dataframe tbody tr th:only-of-type {\n",
       "        vertical-align: middle;\n",
       "    }\n",
       "\n",
       "    .dataframe tbody tr th {\n",
       "        vertical-align: top;\n",
       "    }\n",
       "\n",
       "    .dataframe thead th {\n",
       "        text-align: right;\n",
       "    }\n",
       "</style>\n",
       "<table border=\"1\" class=\"dataframe\">\n",
       "  <thead>\n",
       "    <tr style=\"text-align: right;\">\n",
       "      <th></th>\n",
       "      <th>SimTime</th>\n",
       "      <th>PropertyName</th>\n",
       "      <th>InstanceName</th>\n",
       "      <th>Data</th>\n",
       "    </tr>\n",
       "  </thead>\n",
       "  <tbody>\n",
       "    <tr>\n",
       "      <th>0</th>\n",
       "      <td>0.0</td>\n",
       "      <td>childsizes</td>\n",
       "      <td>road1_bb</td>\n",
       "      <td>[(0.26500000000000001,0.016,0.2650000000000000...</td>\n",
       "    </tr>\n",
       "    <tr>\n",
       "      <th>1</th>\n",
       "      <td>0.0</td>\n",
       "      <td>childpositions</td>\n",
       "      <td>road1_bb</td>\n",
       "      <td>[(304.99023161931717,336.71550169570912,0.3049...</td>\n",
       "    </tr>\n",
       "    <tr>\n",
       "      <th>2</th>\n",
       "      <td>0.0</td>\n",
       "      <td>childorientations</td>\n",
       "      <td>road1_bb</td>\n",
       "      <td>[(1.7791611020322677,0,0),(1.7791886394830212,...</td>\n",
       "    </tr>\n",
       "    <tr>\n",
       "      <th>3</th>\n",
       "      <td>0.0</td>\n",
       "      <td>childmodelinstances</td>\n",
       "      <td>road1_bb</td>\n",
       "      <td>[]</td>\n",
       "    </tr>\n",
       "    <tr>\n",
       "      <th>4</th>\n",
       "      <td>0.0</td>\n",
       "      <td>childsizes</td>\n",
       "      <td>road2_bb</td>\n",
       "      <td>[(0.68799999999999994,0.23200000000000001,0.68...</td>\n",
       "    </tr>\n",
       "    <tr>\n",
       "      <th>...</th>\n",
       "      <td>...</td>\n",
       "      <td>...</td>\n",
       "      <td>...</td>\n",
       "      <td>...</td>\n",
       "    </tr>\n",
       "    <tr>\n",
       "      <th>9875</th>\n",
       "      <td>75.8</td>\n",
       "      <td>childorientations</td>\n",
       "      <td>sumo_bb</td>\n",
       "      <td>[(2.3892946594564179,0,0),(0,0,0),(0,0,0),(0,0...</td>\n",
       "    </tr>\n",
       "    <tr>\n",
       "      <th>9876</th>\n",
       "      <td>75.8</td>\n",
       "      <td>childpositions</td>\n",
       "      <td>sumo_bb</td>\n",
       "      <td>[(14.229153768199685,691.9462474352365,2.25),(...</td>\n",
       "    </tr>\n",
       "    <tr>\n",
       "      <th>9877</th>\n",
       "      <td>75.8</td>\n",
       "      <td>childsizes</td>\n",
       "      <td>sumo_bb</td>\n",
       "      <td>[(4.9800000000000004,2,0.5),(4.980000000000000...</td>\n",
       "    </tr>\n",
       "    <tr>\n",
       "      <th>9878</th>\n",
       "      <td>75.8</td>\n",
       "      <td>worldFrame</td>\n",
       "      <td>simulated_lidar</td>\n",
       "      <td>(0.67626447004604251,-0.7366561687387565,-0.00...</td>\n",
       "    </tr>\n",
       "    <tr>\n",
       "      <th>9879</th>\n",
       "      <td>75.8</td>\n",
       "      <td>worldFrame</td>\n",
       "      <td>Simulated Front Camera (internal reference frame)</td>\n",
       "      <td>(0.67626439548110961,-0.73349076028944382,-0.0...</td>\n",
       "    </tr>\n",
       "  </tbody>\n",
       "</table>\n",
       "<p>9880 rows × 4 columns</p>\n",
       "</div>"
      ],
      "text/plain": [
       "      SimTime         PropertyName  \\\n",
       "0         0.0           childsizes   \n",
       "1         0.0       childpositions   \n",
       "2         0.0    childorientations   \n",
       "3         0.0  childmodelinstances   \n",
       "4         0.0           childsizes   \n",
       "...       ...                  ...   \n",
       "9875     75.8    childorientations   \n",
       "9876     75.8       childpositions   \n",
       "9877     75.8           childsizes   \n",
       "9878     75.8           worldFrame   \n",
       "9879     75.8           worldFrame   \n",
       "\n",
       "                                           InstanceName  \\\n",
       "0                                              road1_bb   \n",
       "1                                              road1_bb   \n",
       "2                                              road1_bb   \n",
       "3                                              road1_bb   \n",
       "4                                              road2_bb   \n",
       "...                                                 ...   \n",
       "9875                                            sumo_bb   \n",
       "9876                                            sumo_bb   \n",
       "9877                                            sumo_bb   \n",
       "9878                                    simulated_lidar   \n",
       "9879  Simulated Front Camera (internal reference frame)   \n",
       "\n",
       "                                                   Data  \n",
       "0     [(0.26500000000000001,0.016,0.2650000000000000...  \n",
       "1     [(304.99023161931717,336.71550169570912,0.3049...  \n",
       "2     [(1.7791611020322677,0,0),(1.7791886394830212,...  \n",
       "3                                                    []  \n",
       "4     [(0.68799999999999994,0.23200000000000001,0.68...  \n",
       "...                                                 ...  \n",
       "9875  [(2.3892946594564179,0,0),(0,0,0),(0,0,0),(0,0...  \n",
       "9876  [(14.229153768199685,691.9462474352365,2.25),(...  \n",
       "9877  [(4.9800000000000004,2,0.5),(4.980000000000000...  \n",
       "9878  (0.67626447004604251,-0.7366561687387565,-0.00...  \n",
       "9879  (0.67626439548110961,-0.73349076028944382,-0.0...  \n",
       "\n",
       "[9880 rows x 4 columns]"
      ]
     },
     "execution_count": 79,
     "metadata": {},
     "output_type": "execute_result"
    }
   ],
   "source": [
    "data"
   ]
  },
  {
   "cell_type": "code",
   "execution_count": 22,
   "metadata": {},
   "outputs": [],
   "source": [
    "childsizes_all = data.loc[data['PropertyName']=='childsizes']\n",
    "childsizes_array = data_array_from_column(childsizes_all,'Data')\n",
    "childpositions_all = data.loc[data['PropertyName']=='childpositions']\n",
    "childpositions_array = data_array_from_column(childpositions_all,'Data')\n",
    "childorientations_all = data.loc[data['PropertyName']=='childorientations']\n",
    "childorientations_array = data_array_from_column(childorientations_all,'Data')"
   ]
  },
  {
   "cell_type": "code",
   "execution_count": 81,
   "metadata": {},
   "outputs": [
    {
     "data": {
      "text/plain": [
       "(36,)"
      ]
     },
     "execution_count": 81,
     "metadata": {},
     "output_type": "execute_result"
    }
   ],
   "source": [
    "childpositions_array[5].shape"
   ]
  },
  {
   "cell_type": "code",
   "execution_count": 30,
   "metadata": {},
   "outputs": [],
   "source": [
    "childsizes_filtered = []\n",
    "childpositions_filtered = []\n",
    "for i in range(childorientations_array.shape[0]):\n",
    "        childsizes_array_temp = [x for x in childsizes_array[i] if x is not None]\n",
    "        childpositions_array_temp = [x for x in childpositions_array[i] if x is not None]   \n",
    "        childpositions_filtered.append(childpositions_array_temp)\n",
    "        childsizes_filtered.append(childsizes_array_temp) "
   ]
  },
  {
   "cell_type": "code",
   "execution_count": 82,
   "metadata": {},
   "outputs": [
    {
     "data": {
      "text/plain": [
       "[(363.4576812763993, 304.1968222250635, 2.25),\n",
       " (179.7813495047468, 153.62411627817406, 1.3716034877949148),\n",
       " (127.73019067836991, 200.59545822912656, 1.3361612839987342),\n",
       " (133.73019067836992, 200.59545822912656, 1.3361612839987342),\n",
       " (139.73019067836992, 200.59545822912656, 1.3361612839987342),\n",
       " (145.73019067836992, 200.59545822912656, 1.3361612839987342),\n",
       " (151.73019067836992, 200.59545822912656, 1.3361612839987342),\n",
       " (157.73019067836992, 200.59545822912656, 1.3361612839987342),\n",
       " (163.73019067836992, 200.59545822912656, 1.3361612839987342),\n",
       " (169.73019067836992, 200.59545822912656, 1.3361612839987342),\n",
       " (175.73019067836992, 200.59545822912656, 1.3361612839987342),\n",
       " (181.73019067836992, 200.59545822912656, 1.3361612839987342),\n",
       " (121.73019067836991, 200.59545822912656, 1.3361612839987342),\n",
       " (127.73019067836991, 200.59545822912656, 1.3361612839987342),\n",
       " (133.73019067836992, 200.59545822912656, 1.3361612839987342),\n",
       " (139.73019067836992, 200.59545822912656, 1.3361612839987342),\n",
       " (145.73019067836992, 200.59545822912656, 1.2516541238647383),\n",
       " (150.86724816382016, 200.48574936861002, 1.2516541238647383),\n",
       " (156.86724816382016, 200.48574936861002, 1.2495355847934422),\n",
       " (162.86724816382016, 200.48574936861002, 1.2495355847934422),\n",
       " (168.86724816382016, 200.48574936861002, 1.2495355847934422),\n",
       " (174.86724816382016, 200.48574936861002, 1.2495355847934422),\n",
       " (180.86724816382016, 200.48574936861002, 1.2495355847934422),\n",
       " (120.86724816382016, 204.48574936861002, 1.2495355847934422),\n",
       " (126.86724816382016, 204.48574936861002, 1.2495355847934422),\n",
       " (132.86724816382016, 204.48574936861002, 1.2495355847934422),\n",
       " (138.86724816382016, 204.48574936861002, 1.2495355847934422),\n",
       " (144.86724816382016, 204.48574936861002, 1.2495355847934422),\n",
       " (150.86724816382016, 204.48574936861002, 1.2495355847934422),\n",
       " (156.86724816382016, 204.48574936861002, 1.2495355847934422),\n",
       " (162.86724816382016, 204.48574936861002, 1.2495355847934422),\n",
       " (168.86724816382016, 204.48574936861002, 1.2495355847934422),\n",
       " (174.86724816382016, 204.48574936861002, 1.2495355847934422),\n",
       " (180.86724816382016, 204.48574936861002, 1.2495355847934422),\n",
       " (120.86724816382016, 208.48574936861002, 1.2495355847934422),\n",
       " (126.86724816382016, 208.48574936861002, 1.2495355847934422)]"
      ]
     },
     "execution_count": 82,
     "metadata": {},
     "output_type": "execute_result"
    }
   ],
   "source": [
    "childpositions_filtered[5]"
   ]
  },
  {
   "cell_type": "markdown",
   "metadata": {},
   "source": [
    "BB calculation"
   ]
  },
  {
   "cell_type": "code",
   "execution_count": 55,
   "metadata": {},
   "outputs": [],
   "source": [
    "BB_length = []\n",
    "BB_width = []\n",
    "BB_height = []\n",
    "BB_center = []\n",
    "\n",
    "for i in range(len(childsizes_filtered)):\n",
    "    for j in range(len(childsizes_filtered[i])):\n",
    "        length = (childsizes_filtered[i][j][0])/2\n",
    "        width = (childsizes_filtered[i][j][1])/2\n",
    "        height = (childsizes_filtered[i][j][2])/2\n",
    "        center = childpositions_filtered[i][j]\n",
    "        \n",
    "        BB_length.append(length)\n",
    "        BB_width.append(width)\n",
    "        BB_height.append(height)\n",
    "        BB_center.append(center)"
   ]
  },
  {
   "cell_type": "code",
   "execution_count": 51,
   "metadata": {},
   "outputs": [],
   "source": [
    "total_objects = len(BB_length)\n",
    "total_frames = int(len(childsizes_array)/6) # 6 is the number of times childsize is calculated in one time frame\n",
    "total_unique_objects_per_frame = int(total_objects/total_frames)"
   ]
  },
  {
   "cell_type": "markdown",
   "metadata": {},
   "source": [
    "Reshape the BB dimensions"
   ]
  },
  {
   "cell_type": "code",
   "execution_count": 56,
   "metadata": {},
   "outputs": [],
   "source": [
    "BB_center = np.reshape(BB_center, (total_frames, total_unique_objects_per_frame, 3))\n",
    "BB_length = np.reshape(BB_length, (total_frames, total_unique_objects_per_frame))\n",
    "BB_width = np.reshape(BB_width, (total_frames, total_unique_objects_per_frame))\n",
    "BB_height = np.reshape(BB_height, (total_frames, total_unique_objects_per_frame))"
   ]
  },
  {
   "cell_type": "markdown",
   "metadata": {},
   "source": [
    "TF for camera and lidar"
   ]
  },
  {
   "cell_type": "code",
   "execution_count": 7,
   "metadata": {},
   "outputs": [],
   "source": [
    "tf_camera_data = data.loc[data['InstanceName']=='Simulated Front Camera (internal reference frame)']\n",
    "tf_camera_array = data_array_from_column(tf_camera_data,'Data')\n",
    "\n",
    "tf_lidar_data = data.loc[data['InstanceName']=='simulated_lidar']\n",
    "tf_lidar_array = data_array_from_column(tf_lidar_data,'Data')"
   ]
  },
  {
   "cell_type": "markdown",
   "metadata": {},
   "source": [
    "V2C matrix"
   ]
  },
  {
   "cell_type": "code",
   "execution_count": 62,
   "metadata": {},
   "outputs": [],
   "source": [
    "V2C_array = []\n",
    "inv_lidar_tf_array = []\n",
    "for i in range(len(tf_camera_array)):\n",
    "    inv_lidar_tf = np.linalg.inv(tf_lidar_array[i].reshape(4,4))\n",
    "    V2C = np.dot(inv_lidar_tf,tf_camera_array[i].reshape(4,4))\n",
    "    V2C_array.append(V2C)\n",
    "    inv_lidar_tf_array.append(inv_lidar_tf)\n"
   ]
  },
  {
   "cell_type": "markdown",
   "metadata": {},
   "source": [
    "Transform BB center from world to lidar coordinates"
   ]
  },
  {
   "cell_type": "code",
   "execution_count": 73,
   "metadata": {},
   "outputs": [],
   "source": [
    "position_from_lidar = []\n",
    "for i in range(total_frames):\n",
    "    for j in range(total_unique_objects_per_frame):\n",
    "        positionA = np.reshape(BB_center[i][j][:3],(3,1))\n",
    "        RotAB = inv_lidar_tf_array[i][:3,:3]\n",
    "        translationAB = np.reshape(inv_lidar_tf_array[i][:3,3],(3,1))\n",
    "        alpha = np.dot(RotAB,positionA)\n",
    "        beta = alpha + translationAB\n",
    "        position_from_lidar.append(beta)\n",
    "    \n",
    "    \n",
    "position_from_lidar = np.reshape(position_from_lidar, (total_frames, total_unique_objects_per_frame, 3))"
   ]
  },
  {
   "cell_type": "code",
   "execution_count": 74,
   "metadata": {},
   "outputs": [
    {
     "data": {
      "text/plain": [
       "array([[ 1.25337934e+01,  6.48556586e+01, -1.95111389e+00],\n",
       "       [ 1.65900131e+01,  6.80222001e+01, -1.95111389e+00],\n",
       "       [ 2.06136877e+01,  7.06136097e+01, -1.95111389e+00],\n",
       "       [ 2.43824772e+01,  7.29024889e+01, -1.95111389e+00],\n",
       "       [ 3.15296917e+01,  7.72448887e+01, -1.89782672e+00],\n",
       "       [ 3.61839672e+01,  7.97945934e+01, -1.73754814e+00],\n",
       "       [ 4.07041660e+01,  8.25269504e+01, -1.82417384e+00],\n",
       "       [ 4.49449937e+01,  8.55712257e+01, -1.82417384e+00],\n",
       "       [ 4.93903648e+01,  8.86421360e+01, -1.82417384e+00],\n",
       "       [ 5.34568310e+01,  9.18344366e+01, -1.82417384e+00],\n",
       "       [ 7.00457474e+01,  1.04869594e+02, -1.82417384e+00],\n",
       "       [ 7.62463282e+01,  1.10401065e+02, -1.58353946e+00],\n",
       "       [ 8.05965193e+01,  1.14312861e+02, -1.58353946e+00],\n",
       "       [ 8.86991793e+01,  1.22021532e+02, -1.58353946e+00],\n",
       "       [ 9.39952763e+01,  1.27655397e+02, -1.58353946e+00],\n",
       "       [ 9.90222890e+01,  1.32945305e+02, -1.58353946e+00],\n",
       "       [ 1.03541824e+02,  1.37335942e+02, -1.58353946e+00],\n",
       "       [ 1.68302806e+02,  2.32181198e+02, -1.91239668e+00],\n",
       "       [ 1.70800137e+02,  2.38970669e+02, -1.91239668e+00],\n",
       "       [ 1.73607732e+02,  2.45059831e+02, -1.55372412e+00],\n",
       "       [ 1.77991428e+02,  2.55299385e+02, -1.55372412e+00],\n",
       "       [ 1.80462241e+02,  2.61030028e+02, -1.55372412e+00],\n",
       "       [ 1.82415583e+02,  2.65892459e+02, -1.26353719e+00],\n",
       "       [ 1.90296560e+02,  2.85094128e+02, -1.26353719e+00],\n",
       "       [ 1.93251531e+02,  2.92351333e+02, -1.26353719e+00],\n",
       "       [ 1.96119382e+02,  2.99363252e+02, -1.26353719e+00],\n",
       "       [ 2.05265216e+02,  3.21922991e+02, -1.26353719e+00],\n",
       "       [ 2.08057929e+02,  3.28694819e+02, -1.26353719e+00],\n",
       "       [ 2.10180868e+02,  3.33843334e+02, -1.26353719e+00],\n",
       "       [-4.62683802e+01,  6.04138685e+01, -1.95111389e+00],\n",
       "       [-3.21340967e+01,  6.39740971e+01, -1.91509926e+00],\n",
       "       [-2.34411126e+01,  6.66922071e+01, -1.91509926e+00],\n",
       "       [-1.97993328e+01,  6.79322746e+01, -1.94737848e+00],\n",
       "       [-1.43845796e+01,  6.98119111e+01, -1.94737848e+00],\n",
       "       [ 1.73490590e+00,  3.00035440e+01, -1.94737848e+00],\n",
       "       [ 1.73490590e+00,  3.00035440e+01, -1.94737848e+00],\n",
       "       [-1.31067890e+01,  3.33932035e+01, -1.26758538e+00],\n",
       "       [-5.41423788e-05, -8.61993937e-01, -6.01933500e-03],\n",
       "       [-2.00595541e+02,  1.26301623e+02, -8.84415847e-01],\n",
       "       [-1.72325729e+02,  1.90461173e+02, -9.19858051e-01],\n",
       "       [-1.70443345e+02,  1.84764101e+02, -9.19858051e-01],\n",
       "       [-1.68560962e+02,  1.79067029e+02, -9.19858051e-01],\n",
       "       [-1.66678578e+02,  1.73369956e+02, -9.19858051e-01],\n",
       "       [-1.64796194e+02,  1.67672884e+02, -9.19858051e-01],\n",
       "       [-1.62913810e+02,  1.61975812e+02, -9.19858051e-01],\n",
       "       [-1.61031427e+02,  1.56278740e+02, -9.19858051e-01],\n",
       "       [-1.59149043e+02,  1.50581668e+02, -9.19858051e-01],\n",
       "       [-1.57266659e+02,  1.44884595e+02, -9.19858051e-01],\n",
       "       [-1.55384275e+02,  1.39187523e+02, -9.19858051e-01],\n",
       "       [-1.74208113e+02,  1.96158245e+02, -9.19858051e-01],\n",
       "       [-1.72325729e+02,  1.90461173e+02, -9.19858051e-01],\n",
       "       [-1.70443345e+02,  1.84764101e+02, -9.19858051e-01],\n",
       "       [-1.68560962e+02,  1.79067029e+02, -9.19858051e-01],\n",
       "       [-1.66678578e+02,  1.73369956e+02, -1.00436521e+00],\n",
       "       [-1.65171096e+02,  1.68457839e+02, -1.00436521e+00],\n",
       "       [-1.63288712e+02,  1.62760767e+02, -1.00648375e+00],\n",
       "       [-1.61406328e+02,  1.57063695e+02, -1.00648375e+00],\n",
       "       [-1.59523944e+02,  1.51366623e+02, -1.00648375e+00],\n",
       "       [-1.57641560e+02,  1.45669551e+02, -1.00648375e+00],\n",
       "       [-1.55759177e+02,  1.39972479e+02, -1.00648375e+00],\n",
       "       [-1.70784966e+02,  1.98198123e+02, -1.00648375e+00],\n",
       "       [-1.68902583e+02,  1.92501051e+02, -1.00648375e+00],\n",
       "       [-1.67020199e+02,  1.86803978e+02, -1.00648375e+00],\n",
       "       [-1.65137815e+02,  1.81106906e+02, -1.00648375e+00],\n",
       "       [-1.63255431e+02,  1.75409834e+02, -1.00648375e+00],\n",
       "       [-1.61373047e+02,  1.69712762e+02, -1.00648375e+00],\n",
       "       [-1.59490664e+02,  1.64015690e+02, -1.00648375e+00],\n",
       "       [-1.57608280e+02,  1.58318618e+02, -1.00648375e+00],\n",
       "       [-1.55725896e+02,  1.52621545e+02, -1.00648375e+00],\n",
       "       [-1.53843512e+02,  1.46924473e+02, -1.00648375e+00],\n",
       "       [-1.51961129e+02,  1.41227401e+02, -1.00648375e+00],\n",
       "       [-1.66986918e+02,  1.99453045e+02, -1.00648375e+00],\n",
       "       [-1.65104534e+02,  1.93755973e+02, -1.00648375e+00]])"
      ]
     },
     "execution_count": 74,
     "metadata": {},
     "output_type": "execute_result"
    }
   ],
   "source": [
    "position_from_lidar[0]"
   ]
  },
  {
   "cell_type": "code",
   "execution_count": 72,
   "metadata": {},
   "outputs": [
    {
     "data": {
      "text/plain": [
       "array([[304.99046214, 336.19310651, -30.36525842],\n",
       "       [303.25635676, 341.01835258, -30.8008983 ],\n",
       "       [302.05813549, 345.63311627, -31.21753095],\n",
       "       [301.06720502, 349.91231526, -31.60386687],\n",
       "       [299.18634984, 358.03280985, -32.2834999 ],\n",
       "       [298.22556571, 363.24529171, -32.5931621 ],\n",
       "       [297.04928925, 368.36585305, -33.14243607],\n",
       "       [295.48919449, 373.32747336, -33.59038627],\n",
       "       [293.96798105, 378.49084583, -34.05655035],\n",
       "       [292.21263178, 383.33383038, -34.49379185],\n",
       "       [285.04005876, 403.0943678 , -36.27784206],\n",
       "       [281.73317644, 410.7080451 , -36.72362327],\n",
       "       [279.38367127, 416.04415198, -37.20538932],\n",
       "       [274.60625497, 426.11521225, -38.11464989],\n",
       "       [270.91838567, 432.88390745, -38.7257624 ],\n",
       "       [267.47268641, 439.29066631, -39.30419704],\n",
       "       [264.72164503, 444.93653437, -39.81393203],\n",
       "       [194.98250685, 535.78455501, -48.34653475],\n",
       "       [189.31931506, 540.26763319, -48.75131912],\n",
       "       [184.41841121, 544.85754809, -48.80561058],\n",
       "       [176.07113653, 552.20250983, -49.46879064],\n",
       "       [171.40499524, 556.32966856, -49.84143353],\n",
       "       [167.40088143, 559.72228492, -49.85638868],\n",
       "       [151.64117963, 573.17480606, -51.07102742],\n",
       "       [145.67744477, 578.23680609, -51.52807969],\n",
       "       [139.91927967, 583.13977856, -51.97077307],\n",
       "       [121.36787541, 598.83769442, -53.38815172],\n",
       "       [115.81410692, 603.5945926 , -53.81765564],\n",
       "       [111.59156356, 607.21088731, -54.14417361],\n",
       "       [290.75991026, 279.19800702, -25.21985751],\n",
       "       [291.81379844, 293.67998546, -26.49112292],\n",
       "       [291.96018228, 302.74994532, -27.30995946],\n",
       "       [291.9252643 , 306.57842171, -27.68800591],\n",
       "       [291.83930496, 312.2862807 , -28.20331338],\n",
       "       [334.69500675, 315.09141691, -28.45617461],\n",
       "       [334.69500675, 315.09141691, -28.45617461],\n",
       "       [326.8201743 , 302.17638558, -26.60771621],\n",
       "       [363.45787039, 303.98104115, -25.50361318],\n",
       "       [351.89585038, 307.7063863 , -26.72678755],\n",
       "       [121.49854682, 591.19504831, -52.35305978],\n",
       "       [265.95439127, 125.89792648, -10.34463424],\n",
       "       [161.70490035, 555.08116329, -49.09232761],\n",
       "       [296.40992272, 282.51827092, -24.48407644],\n",
       "       [334.01057894, 312.83838734, -27.22104327],\n",
       "       [196.59011327, 529.15290117, -46.75120365],\n",
       "       [263.2921481 , 492.66489008, -43.45645601],\n",
       "       [284.58206955, 498.97127619, -44.02560558],\n",
       "       [ 74.47233971, 632.68683056, -56.09937122],\n",
       "       [ 90.27709026, 618.50391344, -54.81879178],\n",
       "       [182.79578063, 152.97332722, -12.78975809],\n",
       "       [130.91052632, 200.68941799, -17.09804528],\n",
       "       [136.91052632, 200.68941845, -17.09799114],\n",
       "       [142.91052632, 200.68941585, -17.09797092],\n",
       "       [148.91052708, 200.68181789, -17.18208164],\n",
       "       [154.04758449, 200.5725538 , -17.17217086],\n",
       "       [160.04758451, 200.57236377, -17.17422667],\n",
       "       [166.04758451, 200.57236423, -17.17417252],\n",
       "       [172.04758451, 200.57236469, -17.17411837],\n",
       "       [178.04758451, 200.57236515, -17.17406423],\n",
       "       [184.04758451, 200.57236561, -17.17401008],\n",
       "       [124.04758745, 204.55615896, -17.53420966],\n",
       "       [130.04758745, 204.55615942, -17.53415551],\n",
       "       [136.04758745, 204.55615988, -17.53410136],\n",
       "       [142.04758745, 204.55616033, -17.53404722],\n",
       "       [148.04758745, 204.55616079, -17.53399307],\n",
       "       [154.04758745, 204.55616125, -17.53393892],\n",
       "       [160.04758745, 204.55616171, -17.53388478],\n",
       "       [166.04758745, 204.55616217, -17.53383063],\n",
       "       [172.04758745, 204.55616263, -17.53377648],\n",
       "       [178.04758745, 204.55616309, -17.53372233],\n",
       "       [184.04758745, 204.55616355, -17.53366819],\n",
       "       [124.04759039, 208.5399569 , -17.89386776],\n",
       "       [130.04759039, 208.53995736, -17.89381362]])"
      ]
     },
     "execution_count": 72,
     "metadata": {},
     "output_type": "execute_result"
    }
   ],
   "source": []
  },
  {
   "cell_type": "markdown",
   "metadata": {},
   "source": [
    "Filter out the BBs which are out of Lidar context"
   ]
  },
  {
   "cell_type": "code",
   "execution_count": 68,
   "metadata": {},
   "outputs": [
    {
     "data": {
      "text/plain": [
       "(380, 73, 3)"
      ]
     },
     "execution_count": 68,
     "metadata": {},
     "output_type": "execute_result"
    }
   ],
   "source": [
    "Lidar_clipping_range = [0, -40, -3, 70.4, 40, 1]\n",
    "for i in range(total_frames):\n",
    "    for idx, j in enumerate(position_from_lidar[i]):\n",
    "        if j[0] > Lidar_clipping_range[3] or j[0] < Lidar_clipping_range[0] or j[1] > Lidar_clipping_range[4] or j[1] < Lidar_clipping_range[1] or j[2] > Lidar_clipping_range[5] or j[2] < Lidar_clipping_range[2]:\n",
    "            position_from_lidar[i][idx] = np.array([0, 0, 0])\n",
    "   "
   ]
  },
  {
   "cell_type": "markdown",
   "metadata": {},
   "source": [
    "Calculate Heading angle of the cars"
   ]
  },
  {
   "cell_type": "code",
   "execution_count": 11,
   "metadata": {},
   "outputs": [],
   "source": [
    "data_array = childorientations_array\n"
   ]
  },
  {
   "cell_type": "code",
   "execution_count": 18,
   "metadata": {},
   "outputs": [
    {
     "data": {
      "text/plain": [
       "(2280, 36)"
      ]
     },
     "execution_count": 18,
     "metadata": {},
     "output_type": "execute_result"
    }
   ],
   "source": [
    "childpositions_array.shape"
   ]
  },
  {
   "attachments": {},
   "cell_type": "markdown",
   "metadata": {},
   "source": [
    "Convert from Radians to Degrees and find relative angles"
   ]
  },
  {
   "cell_type": "code",
   "execution_count": 5,
   "metadata": {},
   "outputs": [],
   "source": [
    "converted_angles = []\n",
    "\n",
    "for i in range(len(childorientations_array)):\n",
    "    for j in range(len(childorientations_array[0])):\n",
    "        for k in range(len(childorientations_array[0][0])):\n",
    "            radian_values = (childorientations_array[i][j][k])*57.2957795\n",
    "            converted_angles.append(radian_values)\n",
    "\n",
    "\n",
    "converted_angles = np.reshape(converted_angles,(6,73,3))"
   ]
  },
  {
   "cell_type": "code",
   "execution_count": 6,
   "metadata": {},
   "outputs": [],
   "source": [
    "only_roll = []\n",
    "\n",
    "for i in range(len(converted_angles)):\n",
    "    for j in range(len(converted_angles[0])):\n",
    "        roll = converted_angles[i][j][0]\n",
    "        only_roll.append(roll)\n",
    "\n",
    "only_roll = np.reshape(only_roll,(6,73))"
   ]
  },
  {
   "cell_type": "code",
   "execution_count": 7,
   "metadata": {},
   "outputs": [],
   "source": [
    "reference_value = [i[0]for i in only_roll]\n",
    "allothervalues =  np.delete(only_roll,0,axis=1)\n",
    "relative_values = []\n",
    "for i in range(len(allothervalues)):\n",
    "    rel_value = allothervalues[i] - reference_value[i]\n",
    "    relative_values.append(rel_value)\n",
    "\n"
   ]
  },
  {
   "attachments": {},
   "cell_type": "markdown",
   "metadata": {},
   "source": [
    "Transformation Matrix\n"
   ]
  },
  {
   "cell_type": "code",
   "execution_count": 8,
   "metadata": {},
   "outputs": [],
   "source": [
    "tf_data = pd.read_csv(\"tfdata.csv\")\n",
    "tf_array = data_array_from_column(tf_data,'Data')"
   ]
  },
  {
   "attachments": {},
   "cell_type": "markdown",
   "metadata": {},
   "source": [
    "Create Pose of the Objects"
   ]
  },
  {
   "cell_type": "code",
   "execution_count": 9,
   "metadata": {},
   "outputs": [],
   "source": [
    "childPose = []\n",
    "for i in range(len(childpositions_array)):\n",
    "    for j in range(len(childpositions_array[0])):\n",
    "        arr1= childpositions_array[i][j]\n",
    "        arr2 = childorientations_array[i][j]\n",
    "        temp_array = np.concatenate((arr1, arr2 ), axis=0)\n",
    "        childPose.append(temp_array)\n",
    "\n",
    "childPose = np.asarray(childPose)   \n",
    "childPose = childPose.reshape(6,73,6)\n"
   ]
  },
  {
   "attachments": {},
   "cell_type": "markdown",
   "metadata": {},
   "source": [
    "Transform from World Frame to Vehicle Frame"
   ]
  },
  {
   "cell_type": "code",
   "execution_count": 10,
   "metadata": {},
   "outputs": [],
   "source": [
    "new_worldframes = []\n",
    "for i in range(len(tf_array)):\n",
    "    temp_array = np.asarray(tf_array[i])\n",
    "    temp_array = temp_array.reshape(4,4)\n",
    "    new_worldframes.append(temp_array)"
   ]
  },
  {
   "cell_type": "code",
   "execution_count": 11,
   "metadata": {},
   "outputs": [],
   "source": [
    "inverse_tf = []\n",
    "for i in range(len(new_worldframes)):\n",
    "    inv_tf = np.linalg.inv(new_worldframes[i])\n",
    "    inverse_tf.append(inv_tf)"
   ]
  },
  {
   "cell_type": "code",
   "execution_count": 12,
   "metadata": {},
   "outputs": [],
   "source": [
    "transformed_position =[]\n",
    "for i in range(len(childPose)):\n",
    "    for j in range(len(childPose[0])):\n",
    "        positionA = np.reshape(childPose[i][j][:3],(3,1))\n",
    "        RotAB = inverse_tf[i][:3,:3]\n",
    "        translationAB = np.reshape(inverse_tf[i][:3,3],(3,1))\n",
    "        alpha = np.dot(RotAB,positionA)\n",
    "        beta = alpha + translationAB\n",
    "        transformed_position.append(beta)\n",
    "\n",
    "\n",
    "transformed_position = np.reshape(transformed_position,(6,73,3))"
   ]
  },
  {
   "attachments": {},
   "cell_type": "markdown",
   "metadata": {},
   "source": [
    "Create  bounding box edge coordinates"
   ]
  },
  {
   "cell_type": "code",
   "execution_count": 13,
   "metadata": {},
   "outputs": [],
   "source": [
    "BB_length = []\n",
    "BB_width = []\n",
    "BB_height = []\n",
    "\n",
    "for i in range(len(childsizes_array)):\n",
    "    for j in range(len(childsizes_array[0])):\n",
    "        length = (childsizes_array[i][j][0])/2\n",
    "        width = (childsizes_array[i][j][1])/2\n",
    "        height = (childsizes_array[i][j][2])/2\n",
    "        \n",
    "        BB_length.append(length)\n",
    "        BB_width.append(width)\n",
    "        BB_height.append(height)\n",
    "\n",
    "BB_length = np.reshape(BB_length,(6,73))\n",
    "BB_height = np.reshape(BB_height,(6,73))\n",
    "BB_width = np.reshape(BB_width,(6,73))"
   ]
  },
  {
   "cell_type": "code",
   "execution_count": 14,
   "metadata": {},
   "outputs": [],
   "source": [
    "BB_coordinates = []\n",
    "\n",
    "for i in range(len(BB_height)):\n",
    "    for j in range(len(BB_height[0])):\n",
    "        x = transformed_position[i][j][0]\n",
    "        y = transformed_position[i][j][1]\n",
    "        z =  transformed_position[i][j][2]\n",
    "\n",
    "        l = BB_length[i][j]\n",
    "        h = BB_height[i][j]\n",
    "        w = BB_width[i][j]\n",
    "\n",
    "        edges = []\n",
    "        e1 = (x-w,y-l,z-h)\n",
    "        e2 = (x-w,y-l,z+h)\n",
    "        e3 = (x-w,y+l,z+h)\n",
    "        e4 = (x-w,y+l,z-h)\n",
    "        e5 = (x+w,y-l,z-h)\n",
    "        e6 = (x+w,y-l,z+h)\n",
    "        e7 = (x+w,y+l,z+h)\n",
    "        e8 = (x+w,y+l,z-h)\n",
    "        edges.append(e1)\n",
    "        edges.append(e2)\n",
    "        edges.append(e3)\n",
    "        edges.append(e4)\n",
    "        edges.append(e5)\n",
    "        edges.append(e6)\n",
    "        edges.append(e7)\n",
    "        edges.append(e8)\n",
    "\n",
    "        BB_coordinates.append(edges)\n",
    "\n",
    "BB_coordinates = np.reshape(BB_coordinates,(6,73,8,3))"
   ]
  },
  {
   "attachments": {},
   "cell_type": "markdown",
   "metadata": {},
   "source": [
    "Save as csv"
   ]
  },
  {
   "cell_type": "code",
   "execution_count": 15,
   "metadata": {},
   "outputs": [],
   "source": [
    "fil_name = 'BB_coordinates'\n",
    "with open(fil_name+'.csv', 'w', newline='') as csvfile:\n",
    "    writer = csv.writer(csvfile, delimiter=',')\n",
    "    writer.writerows(BB_coordinates)"
   ]
  },
  {
   "attachments": {},
   "cell_type": "markdown",
   "metadata": {},
   "source": [
    "Testing one Object from timestep 0.2\n"
   ]
  },
  {
   "cell_type": "code",
   "execution_count": 16,
   "metadata": {},
   "outputs": [],
   "source": [
    "Obj_BB_Coord = BB_coordinates[1][1]\n",
    "loc = \"C:\\\\Users\\\\Proteus\\\\Desktop\\\\RWTH\\\\HiWi\\\\UrbanTestDrive\\\\pcd\\\\test.pcd_simTime-199.99917603ms.pcd\"\n",
    "pc_read = o3d.io.read_point_cloud(loc)\n",
    "pcd_data = np.asarray(pc_read.points)\n"
   ]
  },
  {
   "attachments": {},
   "cell_type": "markdown",
   "metadata": {},
   "source": [
    "Draw PCD"
   ]
  },
  {
   "cell_type": "code",
   "execution_count": 17,
   "metadata": {},
   "outputs": [],
   "source": [
    "pcd1 = o3d.geometry.PointCloud()\n",
    "pcd1.points = o3d.utility.Vector3dVector(pcd_data)\n",
    "o3d.io.write_point_cloud(\"pcd1.ply\",pcd1)\n",
    "\n",
    "pcd2 = o3d.geometry.PointCloud()\n",
    "pcd2.points = o3d.utility.Vector3dVector(Obj_BB_Coord)\n",
    "o3d.io.write_point_cloud(\"pcd2.ply\",pcd2)\n",
    "\n",
    "pcd1_read = o3d.io.read_point_cloud(\"pcd1.ply\")\n",
    "pcd2_read = o3d.io.read_point_cloud(\"pcd2.ply\")\n",
    "\n",
    "pcd1_read.paint_uniform_color([0,0,0.75]) # choose a unique rgb value for each point cloud\n",
    "pcd2_read.paint_uniform_color([0,0.5,0])\n",
    "\n",
    "bb_data = o3d.geometry.AxisAlignedBoundingBox.create_from_points(pcd2.points)\n",
    "obb_data = o3d.geometry.AxisAlignedBoundingBox.get_oriented_bounding_box(bb_data)\n",
    "# o3d.visualization.draw_geometries([pcd1_read,pcd2_read])\n",
    "o3d.visualization.draw_geometries([pcd1_read,obb_data])"
   ]
  }
 ],
 "metadata": {
  "kernelspec": {
   "display_name": "pcd",
   "language": "python",
   "name": "python3"
  },
  "language_info": {
   "codemirror_mode": {
    "name": "ipython",
    "version": 3
   },
   "file_extension": ".py",
   "mimetype": "text/x-python",
   "name": "python",
   "nbconvert_exporter": "python",
   "pygments_lexer": "ipython3",
   "version": "3.8.19"
  },
  "orig_nbformat": 4
 },
 "nbformat": 4,
 "nbformat_minor": 2
}
